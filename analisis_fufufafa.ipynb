{
 "cells": [
  {
   "cell_type": "code",
   "execution_count": 9,
   "metadata": {},
   "outputs": [],
   "source": [
    "import pandas as pd\n",
    "import matplotlib.pyplot as plt \n",
    "import seaborn as sns\n",
    "import csv \n",
    "x = [] \n",
    "y = [] "
   ]
  },
  {
   "cell_type": "code",
   "execution_count": 10,
   "metadata": {},
   "outputs": [
    {
     "data": {
      "text/html": [
       "<div>\n",
       "<style scoped>\n",
       "    .dataframe tbody tr th:only-of-type {\n",
       "        vertical-align: middle;\n",
       "    }\n",
       "\n",
       "    .dataframe tbody tr th {\n",
       "        vertical-align: top;\n",
       "    }\n",
       "\n",
       "    .dataframe thead th {\n",
       "        text-align: right;\n",
       "    }\n",
       "</style>\n",
       "<table border=\"1\" class=\"dataframe\">\n",
       "  <thead>\n",
       "    <tr style=\"text-align: right;\">\n",
       "      <th></th>\n",
       "      <th>Date</th>\n",
       "      <th>Owner</th>\n",
       "      <th>Title</th>\n",
       "      <th>Fufu Reply</th>\n",
       "    </tr>\n",
       "  </thead>\n",
       "  <tbody>\n",
       "    <tr>\n",
       "      <th>0</th>\n",
       "      <td>14-11-2019 09:54</td>\n",
       "      <td>beritafilistin</td>\n",
       "      <td>Perekam Wanita di Kamar Ganti Baju Mall Kerap ...</td>\n",
       "      <td>Dia pasti alumni 212</td>\n",
       "    </tr>\n",
       "    <tr>\n",
       "      <th>1</th>\n",
       "      <td>01-10-2019 17:38</td>\n",
       "      <td>ibelindua</td>\n",
       "      <td>Gubernur Anies Sampaikan Ancaman Penggantian I...</td>\n",
       "      <td>Gak pernah ngaca ya</td>\n",
       "    </tr>\n",
       "    <tr>\n",
       "      <th>2</th>\n",
       "      <td>28-09-2019 10:56</td>\n",
       "      <td>matadewa909</td>\n",
       "      <td>Kecewa Ponakan Prabowo Batal Baca Doa, Gerindr...</td>\n",
       "      <td>Alumni 212 mana suaranya</td>\n",
       "    </tr>\n",
       "    <tr>\n",
       "      <th>3</th>\n",
       "      <td>17-09-2019 12:41</td>\n",
       "      <td>SENORITA88</td>\n",
       "      <td>Pria India Bikin Helm Pakai AC, Kepala Dingin ...</td>\n",
       "      <td>Malah masuk angin ntar</td>\n",
       "    </tr>\n",
       "    <tr>\n",
       "      <th>4</th>\n",
       "      <td>28-08-2019 13:45</td>\n",
       "      <td>matthysse76</td>\n",
       "      <td>Jokograd &amp; Mandalanusa, Usulan Nama Ibu Kota B...</td>\n",
       "      <td>Wowoland city of kamprets</td>\n",
       "    </tr>\n",
       "    <tr>\n",
       "      <th>...</th>\n",
       "      <td>...</td>\n",
       "      <td>...</td>\n",
       "      <td>...</td>\n",
       "      <td>...</td>\n",
       "    </tr>\n",
       "    <tr>\n",
       "      <th>547</th>\n",
       "      <td>11-02-2018 18:07</td>\n",
       "      <td>pastibisadong</td>\n",
       "      <td>Seorang Netizen Sumpahi Anaknya, Denada Murka ...</td>\n",
       "      <td>Nasbung bodoh sok alim</td>\n",
       "    </tr>\n",
       "    <tr>\n",
       "      <th>548</th>\n",
       "      <td>11-02-2018 17:29</td>\n",
       "      <td>carrpirates</td>\n",
       "      <td>Yuk kenali ciri - ciri situs penyebar hoax</td>\n",
       "      <td>Tambahin satu lagi Bawa2 nama islam</td>\n",
       "    </tr>\n",
       "    <tr>\n",
       "      <th>549</th>\n",
       "      <td>11-02-2018 09:57</td>\n",
       "      <td>kelazcorro</td>\n",
       "      <td>Jika Rizieq Shihab Ditahan, Pengacara: Risiko ...</td>\n",
       "      <td>Halah kintil</td>\n",
       "    </tr>\n",
       "    <tr>\n",
       "      <th>550</th>\n",
       "      <td>10-02-2018 13:01</td>\n",
       "      <td>young.avenger</td>\n",
       "      <td>Pelajar dan Santri Majalengka Tolak Valentine Day</td>\n",
       "      <td>bodoh</td>\n",
       "    </tr>\n",
       "    <tr>\n",
       "      <th>551</th>\n",
       "      <td>08-02-2018 13:19</td>\n",
       "      <td>putri..mia</td>\n",
       "      <td>Rumah Saya Banjir Seleher Pak , Anies: Doa Le...</td>\n",
       "      <td>jgn mencari kesalahan pemimpin lah. Emang dia ...</td>\n",
       "    </tr>\n",
       "  </tbody>\n",
       "</table>\n",
       "<p>552 rows × 4 columns</p>\n",
       "</div>"
      ],
      "text/plain": [
       "                 Date           Owner  \\\n",
       "0    14-11-2019 09:54  beritafilistin   \n",
       "1    01-10-2019 17:38       ibelindua   \n",
       "2    28-09-2019 10:56     matadewa909   \n",
       "3    17-09-2019 12:41      SENORITA88   \n",
       "4    28-08-2019 13:45     matthysse76   \n",
       "..                ...             ...   \n",
       "547  11-02-2018 18:07   pastibisadong   \n",
       "548  11-02-2018 17:29     carrpirates   \n",
       "549  11-02-2018 09:57      kelazcorro   \n",
       "550  10-02-2018 13:01   young.avenger   \n",
       "551  08-02-2018 13:19      putri..mia   \n",
       "\n",
       "                                                 Title  \\\n",
       "0    Perekam Wanita di Kamar Ganti Baju Mall Kerap ...   \n",
       "1    Gubernur Anies Sampaikan Ancaman Penggantian I...   \n",
       "2    Kecewa Ponakan Prabowo Batal Baca Doa, Gerindr...   \n",
       "3    Pria India Bikin Helm Pakai AC, Kepala Dingin ...   \n",
       "4    Jokograd & Mandalanusa, Usulan Nama Ibu Kota B...   \n",
       "..                                                 ...   \n",
       "547  Seorang Netizen Sumpahi Anaknya, Denada Murka ...   \n",
       "548         Yuk kenali ciri - ciri situs penyebar hoax   \n",
       "549  Jika Rizieq Shihab Ditahan, Pengacara: Risiko ...   \n",
       "550  Pelajar dan Santri Majalengka Tolak Valentine Day   \n",
       "551   Rumah Saya Banjir Seleher Pak , Anies: Doa Le...   \n",
       "\n",
       "                                            Fufu Reply  \n",
       "0                                 Dia pasti alumni 212  \n",
       "1                                  Gak pernah ngaca ya  \n",
       "2                             Alumni 212 mana suaranya  \n",
       "3                               Malah masuk angin ntar  \n",
       "4                            Wowoland city of kamprets  \n",
       "..                                                 ...  \n",
       "547                             Nasbung bodoh sok alim  \n",
       "548                Tambahin satu lagi Bawa2 nama islam  \n",
       "549                                       Halah kintil  \n",
       "550                                              bodoh  \n",
       "551  jgn mencari kesalahan pemimpin lah. Emang dia ...  \n",
       "\n",
       "[552 rows x 4 columns]"
      ]
     },
     "execution_count": 10,
     "metadata": {},
     "output_type": "execute_result"
    }
   ],
   "source": [
    "df = pd.read_csv('fufufafa.csv', encoding='ISO-8859-1')\n",
    "df"
   ]
  },
  {
   "cell_type": "code",
   "execution_count": 11,
   "metadata": {},
   "outputs": [],
   "source": [
    "# Convert the 'Date' column to datetime format\n",
    "df['Date'] = pd.to_datetime(df['Date'], format='%d-%m-%Y %H:%M')\n",
    "# Extract just the date part\n",
    "df['Date_only'] = df['Date'].dt.date\n",
    "# df['Date_in_2018']='x' for 'x' in df['Date_only'] if x.year == 2018\n",
    "# Extract just the time part\n",
    "df['Time_only'] = df['Date'].dt.time\n",
    "df['Hour_only'] = df['Date'].dt.hour"
   ]
  },
  {
   "cell_type": "code",
   "execution_count": 12,
   "metadata": {},
   "outputs": [
    {
     "ename": "KeyError",
     "evalue": "'Date_in_2018'",
     "output_type": "error",
     "traceback": [
      "\u001b[1;31m---------------------------------------------------------------------------\u001b[0m",
      "\u001b[1;31mKeyError\u001b[0m                                  Traceback (most recent call last)",
      "File \u001b[1;32mc:\\Python311\\Lib\\site-packages\\pandas\\core\\indexes\\base.py:3805\u001b[0m, in \u001b[0;36mIndex.get_loc\u001b[1;34m(self, key)\u001b[0m\n\u001b[0;32m   3804\u001b[0m \u001b[38;5;28;01mtry\u001b[39;00m:\n\u001b[1;32m-> 3805\u001b[0m     \u001b[38;5;28;01mreturn\u001b[39;00m \u001b[38;5;28;43mself\u001b[39;49m\u001b[38;5;241;43m.\u001b[39;49m\u001b[43m_engine\u001b[49m\u001b[38;5;241;43m.\u001b[39;49m\u001b[43mget_loc\u001b[49m\u001b[43m(\u001b[49m\u001b[43mcasted_key\u001b[49m\u001b[43m)\u001b[49m\n\u001b[0;32m   3806\u001b[0m \u001b[38;5;28;01mexcept\u001b[39;00m \u001b[38;5;167;01mKeyError\u001b[39;00m \u001b[38;5;28;01mas\u001b[39;00m err:\n",
      "File \u001b[1;32mindex.pyx:167\u001b[0m, in \u001b[0;36mpandas._libs.index.IndexEngine.get_loc\u001b[1;34m()\u001b[0m\n",
      "File \u001b[1;32mindex.pyx:196\u001b[0m, in \u001b[0;36mpandas._libs.index.IndexEngine.get_loc\u001b[1;34m()\u001b[0m\n",
      "File \u001b[1;32mpandas\\\\_libs\\\\hashtable_class_helper.pxi:7081\u001b[0m, in \u001b[0;36mpandas._libs.hashtable.PyObjectHashTable.get_item\u001b[1;34m()\u001b[0m\n",
      "File \u001b[1;32mpandas\\\\_libs\\\\hashtable_class_helper.pxi:7089\u001b[0m, in \u001b[0;36mpandas._libs.hashtable.PyObjectHashTable.get_item\u001b[1;34m()\u001b[0m\n",
      "\u001b[1;31mKeyError\u001b[0m: 'Date_in_2018'",
      "\nThe above exception was the direct cause of the following exception:\n",
      "\u001b[1;31mKeyError\u001b[0m                                  Traceback (most recent call last)",
      "Cell \u001b[1;32mIn[12], line 1\u001b[0m\n\u001b[1;32m----> 1\u001b[0m \u001b[43mdf\u001b[49m\u001b[43m[\u001b[49m\u001b[38;5;124;43m'\u001b[39;49m\u001b[38;5;124;43mDate_in_2018\u001b[39;49m\u001b[38;5;124;43m'\u001b[39;49m\u001b[43m]\u001b[49m\n",
      "File \u001b[1;32mc:\\Python311\\Lib\\site-packages\\pandas\\core\\frame.py:4090\u001b[0m, in \u001b[0;36mDataFrame.__getitem__\u001b[1;34m(self, key)\u001b[0m\n\u001b[0;32m   4088\u001b[0m \u001b[38;5;28;01mif\u001b[39;00m \u001b[38;5;28mself\u001b[39m\u001b[38;5;241m.\u001b[39mcolumns\u001b[38;5;241m.\u001b[39mnlevels \u001b[38;5;241m>\u001b[39m \u001b[38;5;241m1\u001b[39m:\n\u001b[0;32m   4089\u001b[0m     \u001b[38;5;28;01mreturn\u001b[39;00m \u001b[38;5;28mself\u001b[39m\u001b[38;5;241m.\u001b[39m_getitem_multilevel(key)\n\u001b[1;32m-> 4090\u001b[0m indexer \u001b[38;5;241m=\u001b[39m \u001b[38;5;28;43mself\u001b[39;49m\u001b[38;5;241;43m.\u001b[39;49m\u001b[43mcolumns\u001b[49m\u001b[38;5;241;43m.\u001b[39;49m\u001b[43mget_loc\u001b[49m\u001b[43m(\u001b[49m\u001b[43mkey\u001b[49m\u001b[43m)\u001b[49m\n\u001b[0;32m   4091\u001b[0m \u001b[38;5;28;01mif\u001b[39;00m is_integer(indexer):\n\u001b[0;32m   4092\u001b[0m     indexer \u001b[38;5;241m=\u001b[39m [indexer]\n",
      "File \u001b[1;32mc:\\Python311\\Lib\\site-packages\\pandas\\core\\indexes\\base.py:3812\u001b[0m, in \u001b[0;36mIndex.get_loc\u001b[1;34m(self, key)\u001b[0m\n\u001b[0;32m   3807\u001b[0m     \u001b[38;5;28;01mif\u001b[39;00m \u001b[38;5;28misinstance\u001b[39m(casted_key, \u001b[38;5;28mslice\u001b[39m) \u001b[38;5;129;01mor\u001b[39;00m (\n\u001b[0;32m   3808\u001b[0m         \u001b[38;5;28misinstance\u001b[39m(casted_key, abc\u001b[38;5;241m.\u001b[39mIterable)\n\u001b[0;32m   3809\u001b[0m         \u001b[38;5;129;01mand\u001b[39;00m \u001b[38;5;28many\u001b[39m(\u001b[38;5;28misinstance\u001b[39m(x, \u001b[38;5;28mslice\u001b[39m) \u001b[38;5;28;01mfor\u001b[39;00m x \u001b[38;5;129;01min\u001b[39;00m casted_key)\n\u001b[0;32m   3810\u001b[0m     ):\n\u001b[0;32m   3811\u001b[0m         \u001b[38;5;28;01mraise\u001b[39;00m InvalidIndexError(key)\n\u001b[1;32m-> 3812\u001b[0m     \u001b[38;5;28;01mraise\u001b[39;00m \u001b[38;5;167;01mKeyError\u001b[39;00m(key) \u001b[38;5;28;01mfrom\u001b[39;00m \u001b[38;5;21;01merr\u001b[39;00m\n\u001b[0;32m   3813\u001b[0m \u001b[38;5;28;01mexcept\u001b[39;00m \u001b[38;5;167;01mTypeError\u001b[39;00m:\n\u001b[0;32m   3814\u001b[0m     \u001b[38;5;66;03m# If we have a listlike key, _check_indexing_error will raise\u001b[39;00m\n\u001b[0;32m   3815\u001b[0m     \u001b[38;5;66;03m#  InvalidIndexError. Otherwise we fall through and re-raise\u001b[39;00m\n\u001b[0;32m   3816\u001b[0m     \u001b[38;5;66;03m#  the TypeError.\u001b[39;00m\n\u001b[0;32m   3817\u001b[0m     \u001b[38;5;28mself\u001b[39m\u001b[38;5;241m.\u001b[39m_check_indexing_error(key)\n",
      "\u001b[1;31mKeyError\u001b[0m: 'Date_in_2018'"
     ]
    }
   ],
   "source": [
    "df['Date_in_2018']"
   ]
  },
  {
   "cell_type": "code",
   "execution_count": null,
   "metadata": {},
   "outputs": [],
   "source": [
    "df['Date_only']"
   ]
  },
  {
   "cell_type": "code",
   "execution_count": null,
   "metadata": {},
   "outputs": [],
   "source": [
    "df['Time_only'] \n",
    "df['Hour_only'] "
   ]
  },
  {
   "cell_type": "code",
   "execution_count": 8,
   "metadata": {},
   "outputs": [],
   "source": [
    "# Menghitung jumlah kemunculan berdasarkan tanggal\n",
    "date_counts = df['Date_only'].value_counts().sort_index()"
   ]
  },
  {
   "cell_type": "code",
   "execution_count": null,
   "metadata": {},
   "outputs": [],
   "source": [
    "# Visualisasi seberapa sering data muncul berdasarkan tanggal\n",
    "plt.figure(figsize=(10, 5))\n",
    "sns.barplot(x=date_counts.index, y=date_counts.values, palette='Blues_d')\n",
    "plt.xticks(rotation=45)\n",
    "plt.title(\"Frekuensi Kemunculan Berdasarkan Tanggal\", fontsize=14)\n",
    "plt.xlabel(\"Tanggal\", fontsize=12)\n",
    "plt.ylabel(\"Jumlah Kemunculan\", fontsize=12)\n",
    "plt.tight_layout()\n",
    "plt.show()"
   ]
  },
  {
   "cell_type": "code",
   "execution_count": 10,
   "metadata": {},
   "outputs": [],
   "source": [
    "# Menghitung jumlah kemunculan berdasarkan jam\n",
    "hour_counts = df['Hour_only'].value_counts().sort_index()"
   ]
  },
  {
   "cell_type": "code",
   "execution_count": null,
   "metadata": {},
   "outputs": [],
   "source": [
    "# Visualisasi seberapa sering data muncul berdasarkan jam\n",
    "plt.figure(figsize=(10, 5))\n",
    "sns.barplot(x=hour_counts.index, y=hour_counts.values, palette='Oranges_d')\n",
    "plt.title(\"Frekuensi Kemunculan Berdasarkan Jam\", fontsize=14)\n",
    "plt.xlabel(\"Jam\", fontsize=12)\n",
    "plt.ylabel(\"Jumlah Kemunculan\", fontsize=12)\n",
    "plt.tight_layout()\n",
    "plt.show()"
   ]
  },
  {
   "cell_type": "code",
   "execution_count": null,
   "metadata": {},
   "outputs": [],
   "source": []
  }
 ],
 "metadata": {
  "kernelspec": {
   "display_name": "Python 3",
   "language": "python",
   "name": "python3"
  },
  "language_info": {
   "codemirror_mode": {
    "name": "ipython",
    "version": 3
   },
   "file_extension": ".py",
   "mimetype": "text/x-python",
   "name": "python",
   "nbconvert_exporter": "python",
   "pygments_lexer": "ipython3",
   "version": "3.11.3"
  }
 },
 "nbformat": 4,
 "nbformat_minor": 2
}
